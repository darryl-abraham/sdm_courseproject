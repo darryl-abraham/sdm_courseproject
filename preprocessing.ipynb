{
 "cells": [
  {
   "cell_type": "markdown",
   "source": [
    "#### SDM Course Project\n",
    "# Preprocessing\n",
    "*Darryl Abraham, Riccardo Paciello*"
   ],
   "metadata": {
    "collapsed": false
   },
   "id": "c447a0dd71936f2a"
  },
  {
   "cell_type": "markdown",
   "source": [
    "#### Import Libraries"
   ],
   "metadata": {
    "collapsed": false
   },
   "id": "f3acfa860c9e4672"
  },
  {
   "cell_type": "code",
   "execution_count": 1,
   "id": "initial_id",
   "metadata": {
    "collapsed": true,
    "ExecuteTime": {
     "end_time": "2024-06-08T16:20:44.600769Z",
     "start_time": "2024-06-08T16:20:42.393433Z"
    }
   },
   "outputs": [],
   "source": [
    "import pandas as pd\n",
    "from rdflib import Graph\n",
    "import networkx as nx\n",
    "import matplotlib.pyplot as plt\n",
    "import matplotlib.patches as mpatches\n",
    "import scipy\n",
    "from graphviz import Digraph"
   ]
  },
  {
   "cell_type": "markdown",
   "source": [
    "#### Import Data"
   ],
   "metadata": {
    "collapsed": false
   },
   "id": "8c9c407eb5173ef"
  },
  {
   "cell_type": "code",
   "outputs": [],
   "source": [
    "def parse_turtle_file(turtle_file):\n",
    "    g = Graph()\n",
    "    g.parse(turtle_file, format=\"turtle\")\n",
    "    \n",
    "    triples = []\n",
    "    for subj, pred, obj in g:\n",
    "        triples.append((str(subj), str(pred), str(obj)))\n",
    "        \n",
    "    return triples"
   ],
   "metadata": {
    "collapsed": false,
    "ExecuteTime": {
     "end_time": "2024-06-08T16:20:44.604903Z",
     "start_time": "2024-06-08T16:20:44.601850Z"
    }
   },
   "id": "91e1d714daa47f20",
   "execution_count": 2
  },
  {
   "cell_type": "code",
   "outputs": [],
   "source": [
    "turtle_file = \"data/data.ttl\"\n",
    "triples = parse_turtle_file(turtle_file)\n",
    "df = pd.DataFrame(triples, columns=[\"head\", \"relation\", \"tail\"])"
   ],
   "metadata": {
    "collapsed": false,
    "ExecuteTime": {
     "end_time": "2024-06-08T16:20:57.749303Z",
     "start_time": "2024-06-08T16:20:44.605979Z"
    }
   },
   "id": "6bccc6ace8fb9a40",
   "execution_count": 3
  },
  {
   "cell_type": "markdown",
   "source": [
    "#### Preprocessing"
   ],
   "metadata": {
    "collapsed": false
   },
   "id": "fa7e49927ac1b462"
  },
  {
   "cell_type": "code",
   "outputs": [
    {
     "data": {
      "text/plain": "                              head                       relation  \\\n0   http://sdmlab2.org/Paper/16212  http://sdmlab2.org/hasKeyword   \n1   http://sdmlab2.org/Paper/10811     http://sdmlab2.org/citedBy   \n2   http://sdmlab2.org/Paper/14094     http://sdmlab2.org/citedBy   \n3   http://sdmlab2.org/Paper/13182     http://sdmlab2.org/citedBy   \n4  http://sdmlab2.org/Author/27105     http://sdmlab2.org/hasName   \n\n                               tail  \n0  http://sdmlab2.org/Keyword/36850  \n1    http://sdmlab2.org/Paper/15323  \n2    http://sdmlab2.org/Paper/14575  \n3    http://sdmlab2.org/Paper/14136  \n4               Reuben D. Budiardja  ",
      "text/html": "<div>\n<style scoped>\n    .dataframe tbody tr th:only-of-type {\n        vertical-align: middle;\n    }\n\n    .dataframe tbody tr th {\n        vertical-align: top;\n    }\n\n    .dataframe thead th {\n        text-align: right;\n    }\n</style>\n<table border=\"1\" class=\"dataframe\">\n  <thead>\n    <tr style=\"text-align: right;\">\n      <th></th>\n      <th>head</th>\n      <th>relation</th>\n      <th>tail</th>\n    </tr>\n  </thead>\n  <tbody>\n    <tr>\n      <th>0</th>\n      <td>http://sdmlab2.org/Paper/16212</td>\n      <td>http://sdmlab2.org/hasKeyword</td>\n      <td>http://sdmlab2.org/Keyword/36850</td>\n    </tr>\n    <tr>\n      <th>1</th>\n      <td>http://sdmlab2.org/Paper/10811</td>\n      <td>http://sdmlab2.org/citedBy</td>\n      <td>http://sdmlab2.org/Paper/15323</td>\n    </tr>\n    <tr>\n      <th>2</th>\n      <td>http://sdmlab2.org/Paper/14094</td>\n      <td>http://sdmlab2.org/citedBy</td>\n      <td>http://sdmlab2.org/Paper/14575</td>\n    </tr>\n    <tr>\n      <th>3</th>\n      <td>http://sdmlab2.org/Paper/13182</td>\n      <td>http://sdmlab2.org/citedBy</td>\n      <td>http://sdmlab2.org/Paper/14136</td>\n    </tr>\n    <tr>\n      <th>4</th>\n      <td>http://sdmlab2.org/Author/27105</td>\n      <td>http://sdmlab2.org/hasName</td>\n      <td>Reuben D. Budiardja</td>\n    </tr>\n  </tbody>\n</table>\n</div>"
     },
     "execution_count": 4,
     "metadata": {},
     "output_type": "execute_result"
    }
   ],
   "source": [
    "df.head()"
   ],
   "metadata": {
    "collapsed": false,
    "ExecuteTime": {
     "end_time": "2024-06-08T16:20:57.762594Z",
     "start_time": "2024-06-08T16:20:57.750312Z"
    }
   },
   "id": "39cb7b490ce2ac24",
   "execution_count": 4
  },
  {
   "cell_type": "code",
   "outputs": [],
   "source": [
    "xid = df[df.apply(lambda x: x.str.startswith('http://www.w3.org/').any(), axis=1)].index"
   ],
   "metadata": {
    "collapsed": false,
    "ExecuteTime": {
     "end_time": "2024-06-08T16:21:28.728811Z",
     "start_time": "2024-06-08T16:20:57.763688Z"
    }
   },
   "id": "648693716ef1fef6",
   "execution_count": 5
  },
  {
   "cell_type": "code",
   "outputs": [],
   "source": [
    "def shorten_uri(uri):\n",
    "    uri = uri.removeprefix(\"http://sdmlab2.org/\")\n",
    "    uri = uri.split('#')[-1]\n",
    "    return uri\n",
    "    #return uri.split('/')[-2] + '/' + uri.split('/')[-1] if 'sdmlab2.org' in uri else uri\n",
    "\n",
    "df['head'] = df['head'].apply(shorten_uri)\n",
    "df['relation'] = df['relation'].apply(shorten_uri)\n",
    "df['tail'] = df['tail'].apply(shorten_uri)"
   ],
   "metadata": {
    "collapsed": false,
    "ExecuteTime": {
     "end_time": "2024-06-08T16:21:29.144423Z",
     "start_time": "2024-06-08T16:21:28.729990Z"
    }
   },
   "id": "a8eb08d6795a1645",
   "execution_count": 6
  },
  {
   "cell_type": "code",
   "outputs": [
    {
     "data": {
      "text/plain": "           head    relation                 tail\n0   Paper/16212  hasKeyword        Keyword/36850\n1   Paper/10811     citedBy          Paper/15323\n2   Paper/14094     citedBy          Paper/14575\n3   Paper/13182     citedBy          Paper/14136\n4  Author/27105     hasName  Reuben D. Budiardja",
      "text/html": "<div>\n<style scoped>\n    .dataframe tbody tr th:only-of-type {\n        vertical-align: middle;\n    }\n\n    .dataframe tbody tr th {\n        vertical-align: top;\n    }\n\n    .dataframe thead th {\n        text-align: right;\n    }\n</style>\n<table border=\"1\" class=\"dataframe\">\n  <thead>\n    <tr style=\"text-align: right;\">\n      <th></th>\n      <th>head</th>\n      <th>relation</th>\n      <th>tail</th>\n    </tr>\n  </thead>\n  <tbody>\n    <tr>\n      <th>0</th>\n      <td>Paper/16212</td>\n      <td>hasKeyword</td>\n      <td>Keyword/36850</td>\n    </tr>\n    <tr>\n      <th>1</th>\n      <td>Paper/10811</td>\n      <td>citedBy</td>\n      <td>Paper/15323</td>\n    </tr>\n    <tr>\n      <th>2</th>\n      <td>Paper/14094</td>\n      <td>citedBy</td>\n      <td>Paper/14575</td>\n    </tr>\n    <tr>\n      <th>3</th>\n      <td>Paper/13182</td>\n      <td>citedBy</td>\n      <td>Paper/14136</td>\n    </tr>\n    <tr>\n      <th>4</th>\n      <td>Author/27105</td>\n      <td>hasName</td>\n      <td>Reuben D. Budiardja</td>\n    </tr>\n  </tbody>\n</table>\n</div>"
     },
     "execution_count": 7,
     "metadata": {},
     "output_type": "execute_result"
    }
   ],
   "source": [
    "df.head()"
   ],
   "metadata": {
    "collapsed": false,
    "ExecuteTime": {
     "end_time": "2024-06-08T16:21:29.150902Z",
     "start_time": "2024-06-08T16:21:29.145435Z"
    }
   },
   "id": "d4f8cffb7c4005ea",
   "execution_count": 7
  },
  {
   "cell_type": "code",
   "outputs": [
    {
     "data": {
      "text/plain": "                    head       relation      tail\n4883   publishedInVolume          range    Volume\n17161            hasText         domain    Review\n20906        wroteReview  subPropertyOf  Authored\n30835   relevantAuthorOf           type  Property\n32681             heldIn           type  Property",
      "text/html": "<div>\n<style scoped>\n    .dataframe tbody tr th:only-of-type {\n        vertical-align: middle;\n    }\n\n    .dataframe tbody tr th {\n        vertical-align: top;\n    }\n\n    .dataframe thead th {\n        text-align: right;\n    }\n</style>\n<table border=\"1\" class=\"dataframe\">\n  <thead>\n    <tr style=\"text-align: right;\">\n      <th></th>\n      <th>head</th>\n      <th>relation</th>\n      <th>tail</th>\n    </tr>\n  </thead>\n  <tbody>\n    <tr>\n      <th>4883</th>\n      <td>publishedInVolume</td>\n      <td>range</td>\n      <td>Volume</td>\n    </tr>\n    <tr>\n      <th>17161</th>\n      <td>hasText</td>\n      <td>domain</td>\n      <td>Review</td>\n    </tr>\n    <tr>\n      <th>20906</th>\n      <td>wroteReview</td>\n      <td>subPropertyOf</td>\n      <td>Authored</td>\n    </tr>\n    <tr>\n      <th>30835</th>\n      <td>relevantAuthorOf</td>\n      <td>type</td>\n      <td>Property</td>\n    </tr>\n    <tr>\n      <th>32681</th>\n      <td>heldIn</td>\n      <td>type</td>\n      <td>Property</td>\n    </tr>\n  </tbody>\n</table>\n</div>"
     },
     "execution_count": 8,
     "metadata": {},
     "output_type": "execute_result"
    }
   ],
   "source": [
    "df.loc[xid].head()"
   ],
   "metadata": {
    "collapsed": false,
    "ExecuteTime": {
     "end_time": "2024-06-08T16:21:29.159063Z",
     "start_time": "2024-06-08T16:21:29.151943Z"
    }
   },
   "id": "f9767b632f93eecb",
   "execution_count": 8
  },
  {
   "cell_type": "code",
   "outputs": [],
   "source": [
    "df.to_csv(\"data/preprocessed.csv\", index=False)"
   ],
   "metadata": {
    "collapsed": false,
    "ExecuteTime": {
     "end_time": "2024-06-08T16:21:29.855154Z",
     "start_time": "2024-06-08T16:21:29.160120Z"
    }
   },
   "id": "a8d6e767b6ceeaa8",
   "execution_count": 9
  },
  {
   "cell_type": "markdown",
   "source": [
    "#### Visualise the graph"
   ],
   "metadata": {
    "collapsed": false
   },
   "id": "59a77e6de1d5594b"
  },
  {
   "cell_type": "code",
   "outputs": [],
   "source": [
    "def create_graph(df):\n",
    "    G = nx.DiGraph()\n",
    "    for row in df.itertuples(index=False):\n",
    "        G.add_edge(row.head, row.tail, label=row.relation)\n",
    "    return G\n",
    "\n",
    "G = create_graph(df)"
   ],
   "metadata": {
    "collapsed": false,
    "ExecuteTime": {
     "end_time": "2024-06-08T16:21:31.332615Z",
     "start_time": "2024-06-08T16:21:29.856199Z"
    }
   },
   "id": "2e4b404211f0701d",
   "execution_count": 10
  },
  {
   "cell_type": "code",
   "outputs": [],
   "source": [
    "def plot_graph(G):\n",
    "    pos = nx.spring_layout(G)  # positions for all nodes\n",
    "    nx.draw(G, pos, with_labels=True, node_size=1500, node_color=\"skyblue\", font_size=10, font_weight=\"bold\", arrows=True)\n",
    "    \n",
    "    # Add edge labels\n",
    "    edge_labels = nx.get_edge_attributes(G, 'label')\n",
    "    nx.draw_networkx_edge_labels(G, pos, edge_labels=edge_labels)\n",
    "    \n",
    "    plt.title(\"Knowledge Graph Visualization\")\n",
    "    plt.show()\n",
    "    \n",
    "#plot_graph(G)"
   ],
   "metadata": {
    "collapsed": false,
    "ExecuteTime": {
     "end_time": "2024-06-08T16:21:31.337452Z",
     "start_time": "2024-06-08T16:21:31.333753Z"
    }
   },
   "id": "f210bc62c9f983e5",
   "execution_count": 11
  },
  {
   "cell_type": "code",
   "outputs": [],
   "source": [],
   "metadata": {
    "collapsed": false,
    "ExecuteTime": {
     "end_time": "2024-06-08T16:21:31.340951Z",
     "start_time": "2024-06-08T16:21:31.338617Z"
    }
   },
   "id": "fafb968f0db6146b",
   "execution_count": 11
  }
 ],
 "metadata": {
  "kernelspec": {
   "display_name": "Python 3",
   "language": "python",
   "name": "python3"
  },
  "language_info": {
   "codemirror_mode": {
    "name": "ipython",
    "version": 2
   },
   "file_extension": ".py",
   "mimetype": "text/x-python",
   "name": "python",
   "nbconvert_exporter": "python",
   "pygments_lexer": "ipython2",
   "version": "2.7.6"
  }
 },
 "nbformat": 4,
 "nbformat_minor": 5
}
